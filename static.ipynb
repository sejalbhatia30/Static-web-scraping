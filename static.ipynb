{
 "cells": [
  {
   "cell_type": "code",
   "execution_count": 1,
   "metadata": {},
   "outputs": [],
   "source": [
    "import urllib.request\n",
    "from bs4 import BeautifulSoup\n",
    "import pandas as pd"
   ]
  },
  {
   "cell_type": "code",
   "execution_count": 2,
   "metadata": {},
   "outputs": [],
   "source": [
    "url=\"https://www.navtradingcompany.com/product.php\""
   ]
  },
  {
   "cell_type": "code",
   "execution_count": 3,
   "metadata": {},
   "outputs": [],
   "source": [
    "search_for=\"chimney\"\n",
    "search_url=url+\"?search=\"+search_for"
   ]
  },
  {
   "cell_type": "code",
   "execution_count": 4,
   "metadata": {},
   "outputs": [],
   "source": [
    "r = urllib.request.urlopen(search_url)"
   ]
  },
  {
   "cell_type": "code",
   "execution_count": 5,
   "metadata": {},
   "outputs": [],
   "source": [
    "soup = BeautifulSoup(r)"
   ]
  },
  {
   "cell_type": "code",
   "execution_count": 6,
   "metadata": {},
   "outputs": [
    {
     "name": "stdout",
     "output_type": "stream",
     "text": [
      "KAFF RAY  60\n",
      "                        \n",
      "KAFF ZEPA  60\n",
      "                        \n",
      "KAFF ELBAA MX  60\n",
      "                        \n",
      "KAFF META  60\n",
      "                        \n",
      "KAFF NOVA  60\n",
      "                        \n",
      "KAFF NERO MX  60\n",
      "                        \n",
      "KAFF FEMA 60 BLK\n",
      "                        \n",
      "KAFF FEMA 60 SS\n",
      "                        \n",
      "KAFF FIM BF 60 \n",
      "                        \n",
      "KAFF IDEAL MX BF 60 \n",
      "                        \n",
      "KAFF OPEC DX BKBF 60\n",
      "                        \n",
      "KAFF OPEC BGX 60\n",
      "                        \n",
      "KAFF NOVA TC 60\n",
      "                        \n",
      "KAFF MARBELLA 60 BLK\n",
      "                        \n",
      "KAFF CELINO 90\n",
      "                        \n",
      "KAFF OPEC DX 90 ISLAND\n",
      "                        \n",
      "KAFF NOBELO 90\n",
      "                        \n"
     ]
    }
   ],
   "source": [
    "q=[]\n",
    "for card in soup.find_all('div',class_='col-xs-12 col-sm-4 col-md-4'):\n",
    "    h={}\n",
    "    content=card.find('div',class_='card-content')\n",
    "    name=content.find('a')\n",
    "    h=name.text.replace(\"\\r\",\"\").replace(\"\\n\",\"\")\n",
    "    q.append(h)\n",
    "    print(name.text)\n",
    "  "
   ]
  },
  {
   "cell_type": "code",
   "execution_count": null,
   "metadata": {},
   "outputs": [],
   "source": [
    "# To make a dataframe with the list\n",
    "df = pd.DataFrame(q)\n",
    "\n",
    "# To write the dataframe to a csv file\n",
    "df.to_csv(\"nav.csv\")"
   ]
  }
 ],
 "metadata": {
  "kernelspec": {
   "display_name": "Python 3",
   "language": "python",
   "name": "python3"
  },
  "language_info": {
   "codemirror_mode": {
    "name": "ipython",
    "version": 3
   },
   "file_extension": ".py",
   "mimetype": "text/x-python",
   "name": "python",
   "nbconvert_exporter": "python",
   "pygments_lexer": "ipython3",
   "version": "3.7.1"
  }
 },
 "nbformat": 4,
 "nbformat_minor": 2
}
